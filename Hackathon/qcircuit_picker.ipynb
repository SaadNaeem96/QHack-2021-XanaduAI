{
 "cells": [
  {
   "cell_type": "markdown",
   "metadata": {},
   "source": [
    "\n",
    "# Quantum Circuit Picker, Related Works\n",
    "\n",
    "| Neural Network Architectures | Gates              | Platform/Interface           |      Reference\n",
    "| -----------------------------|:-:|------------------------------|:-:\n",
    "| Artificial Neural Networks (ANN) | ROT                | pennylane                    |Data-reuploading classifier [1]\n",
    "| Quantum CNN (kernel)         | RY, RandomLayers   | pennylane, torch             |Quanvolutional Neural Networks [2]\n",
    "| Quantum GAN         | Hadamard, RX, RY, RZ, CNOT  | Google Cirq, tensorflow      |Quantum GAN [3]\n",
    "| Photonic Quantum Neural Nets | Rotation, Squeezing, Displacement, Kerr  | Strawberryfields.fock      |Photonic Quantum Neural Nets [4]\n",
    "| ANN for transfer learning | Hadamard, RY, CNOT  | pennylane, torch      | Quantum Transfer Learning [5]\n",
    "| Linear solver | Hadamard, CZ, CNOT  | pennylane      | Variational Quantum Linear Solver [6]\n",
    "| Coherent Linear solver | Hadamard, CZ, CNOT, CRY, RY  | pennylane      | Coherent Variational Quantum Linear Solver [7]\n",
    "| Multiclass Classification | ROT, CNOT  | pennylane      | Multiclass Margin Classifier [8]\n",
    "| RNN | Hadamard, CSWAP  | pennylane      | Graph RNN for Multiclass Margin Classifier [9]\n",
    "| Optical Neural Network | Interferometer, Kerr, FockState  | pennylane      | Optical Neural Network [10]\n",
    "\n",
    "\n",
    "* [1] https://pennylane.ai/qml/demos/tutorial_data_reuploading_classifier.html\n",
    "* [2] https://github.com/PlanQK/TrainableQuantumConvolution\n",
    "* [3] https://pennylane.ai/qml/demos/tutorial_QGAN.html\n",
    "* [4] https://pennylane.ai/qml/demos/quantum_neural_net.html\n",
    "* [5] https://pennylane.ai/qml/demos/tutorial_quantum_transfer_learning.html\n",
    "* [6] https://pennylane.ai/qml/demos/tutorial_vqls.html\n",
    "* [7] https://pennylane.ai/qml/demos/tutorial_coherent_vqls.html\n",
    "* [8] https://pennylane.ai/qml/demos/tutorial_multiclass_classification.html\n",
    "* [9] https://pennylane.ai/qml/demos/qgrnn.html\n",
    "* [10] https://pennylane.ai/qml/demos/qonn.html\n",
    "\n"
   ]
  },
  {
   "cell_type": "markdown",
   "metadata": {},
   "source": [
    "We consider the following factors to pick quantum circuits\n",
    "\n",
    "| nntyp | interface              | simulator\n",
    "| :-:|:-:|:-:\n",
    "| ann, cn, gan, gnn, anntf, rnn | torch                | \"default.qubit\", \"cirq.simulator\"\n"
   ]
  },
  {
   "cell_type": "code",
   "execution_count": 9,
   "metadata": {},
   "outputs": [],
   "source": [
    "import sys\n",
    "import pennylane as qml\n",
    "import numpy as np"
   ]
  },
  {
   "cell_type": "code",
   "execution_count": 68,
   "metadata": {},
   "outputs": [],
   "source": [
    "def qcircuit_picker(nntype, params, features, wires, simulator=None, interface=None, seed=None):\n",
    "    \n",
    "    if simulator is None: \n",
    "        simulator = \"default.qubit\"\n",
    "    if interface is None:\n",
    "        interface = \"torch\"\n",
    "        \n",
    "    if nntype == \"ann\":\n",
    "        return AnnLayer(params, features, wires)\n",
    "    elif nntype == \"cnn\":\n",
    "        return CnnLayer(params, features, wires)\n",
    "    elif nntype == \"anntf\":\n",
    "        return AnnTfLayer()\n",
    "    elif nntype == \"gan\":\n",
    "        return \"GAN quantum circuit picker under development...\"\n",
    "    elif nntype == \"gnn\":\n",
    "        return \"GNN quantum circuit picker under development...\"\n",
    "#     switcher = {\n",
    "#         0: ann(),\n",
    "#         1: cnn(),\n",
    "#         2: anntf(),\n",
    "#         3: gan(),\n",
    "#         4: gnn()\n",
    "#     }\n",
    "#     return switcher.get(argument, \"invalid neural net type\")\n"
   ]
  },
  {
   "cell_type": "code",
   "execution_count": 54,
   "metadata": {},
   "outputs": [],
   "source": [
    "# a layer in an ANN\n",
    "# This layer returns multiple measurements per wire\n",
    "# For each wire, a ROT gate embedds the feature (i.e. the data sample of length 3) followed by\n",
    "# another ROT gate that takes the params (i.e. the weights to optimize) as input\n",
    "# The features could be the output of a preceeding layer (classical or quantum)\n",
    "\n",
    "def AnnLayer(params, features, wires):\n",
    "            \n",
    "        \"\"\"A variational quantum circuit representing the Universal classifier.\n",
    "\n",
    "        Args:\n",
    "            params (array[float]): array of parameters\n",
    "            features (array[float]): single input vector\n",
    "\n",
    "        Returns:\n",
    "            float: measurements per wire\n",
    "        \"\"\"\n",
    "        i = 0\n",
    "        ret = []\n",
    "        for p in params:\n",
    "            qml.Rot(*features, wires=wires[i])\n",
    "            qml.Rot(*p, wires=wires[i])\n",
    "            i += 1\n",
    "            ret.append(qml.expval(qml.PauliZ(i)))\n",
    "        return ret"
   ]
  },
  {
   "cell_type": "code",
   "execution_count": 55,
   "metadata": {},
   "outputs": [
    {
     "name": "stdout",
     "output_type": "stream",
     "text": [
      "[expval(PauliZ(wires=[1])), expval(PauliZ(wires=[2])), expval(PauliZ(wires=[3])), expval(PauliZ(wires=[4])), expval(PauliZ(wires=[5]))]\n"
     ]
    }
   ],
   "source": [
    "# test case per layer\n",
    "num_wires = 5\n",
    "params = np.pi * np.random.random_sample((num_wires, 3))\n",
    "features = np.random.uniform(0, np.pi, 3)\n",
    "measurements =  AnnLayer(params, features, range(num_wires))\n",
    "print(measurements)"
   ]
  },
  {
   "cell_type": "code",
   "execution_count": 61,
   "metadata": {},
   "outputs": [
    {
     "name": "stdout",
     "output_type": "stream",
     "text": [
      "[expval(PauliZ(wires=[1])), expval(PauliZ(wires=[2])), expval(PauliZ(wires=[3])), expval(PauliZ(wires=[4])), expval(PauliZ(wires=[5]))]\n"
     ]
    }
   ],
   "source": [
    "# test case using qcircuit_picker\n",
    "num_wires = 5\n",
    "params = np.pi * np.random.random_sample((num_wires, 3))\n",
    "features = np.random.uniform(0, np.pi, 3)\n",
    "measurements = qcircuit_picker(\"ann\", params, features, range(num_wires))\n",
    "print(measurements)"
   ]
  },
  {
   "cell_type": "code",
   "execution_count": 69,
   "metadata": {},
   "outputs": [],
   "source": [
    "# build a N-dimensional kernel for CNN, N = 2, 3\n",
    "def CnnLayer(params, features, wires, seed=None):\n",
    "#     print(\"under development...\")\n",
    "#     return \"cnnlayer\"\n",
    "    if seed is None:\n",
    "            seed = np.random.randint(low=0, high=10e6)\n",
    "    flist = list(features)\n",
    "    plist = list(params)\n",
    "    # Encoding of features (i.e. classical input values)\n",
    "    ret = []\n",
    "    for w in wires:\n",
    "        qml.RY(flist.pop(), wires=w)\n",
    "        qml.RY(plist.pop(), wires=w)\n",
    "        ret.append(qml.expval(qml.PauliZ(w)))\n",
    "        \n",
    "    #RandomLayers(weights, wires=list(wires), seed=seed)    \n",
    "    return ret\n",
    "            "
   ]
  },
  {
   "cell_type": "code",
   "execution_count": 71,
   "metadata": {},
   "outputs": [
    {
     "name": "stdout",
     "output_type": "stream",
     "text": [
      "[expval(PauliZ(wires=[0])), expval(PauliZ(wires=[1])), expval(PauliZ(wires=[2])), expval(PauliZ(wires=[3]))]\n"
     ]
    }
   ],
   "source": [
    "# test case per layer\n",
    "num_wires = 4\n",
    "#params = np.pi * np.random.random_sample((2, 2))\n",
    "params = np.random.uniform(0, np.pi, num_wires)\n",
    "features = np.random.uniform(0, np.pi, num_wires)\n",
    "measurements =  CnnLayer(params, features, range(num_wires))\n",
    "print(measurements)"
   ]
  },
  {
   "cell_type": "code",
   "execution_count": 72,
   "metadata": {},
   "outputs": [
    {
     "name": "stdout",
     "output_type": "stream",
     "text": [
      "[expval(PauliZ(wires=[0])), expval(PauliZ(wires=[1])), expval(PauliZ(wires=[2])), expval(PauliZ(wires=[3]))]\n"
     ]
    }
   ],
   "source": [
    "# test case using qcircuit_picker\n",
    "num_wires = 4\n",
    "params = np.random.uniform(0, np.pi, num_wires)\n",
    "features = np.random.uniform(0, np.pi, num_wires)\n",
    "measurements = qcircuit_picker(\"cnn\", params, features, range(num_wires))\n",
    "print(measurements)"
   ]
  },
  {
   "cell_type": "code",
   "execution_count": 64,
   "metadata": {},
   "outputs": [],
   "source": [
    "# ref example: https://pennylane.readthedocs.io/en/latest/_modules/pennylane/qnn/keras.html#KerasLayer\n",
    "# ref: https://pennylane.ai/qml/demos/tutorial_quantum_transfer_learning.html\n",
    "def AnnTfLayer():\n",
    "    print(\"under development...\")\n",
    "    return \"anntflayer\"\n",
    "#     for idx in range(nqubits):\n",
    "#          qml.Hadamard(wires=idx)\n",
    "#     for idx, element in enumerate(w):\n",
    "#             qml.RY(element, wires=idx)\n",
    "#     for i in range(0, nqubits - 1, 2): \n",
    "#             qml.CNOT(wires=[i, i + 1])\n",
    "#     for i in range(1, nqubits - 1, 2):  \n",
    "#             qml.CNOT(wires=[i, i + 1])      \n",
    "#     exp_vals = [qml.expval(qml.PauliZ(position)) for position in range(n_qubits)]\n",
    "#          return tuple(exp_vals)\n",
    "    "
   ]
  },
  {
   "cell_type": "code",
   "execution_count": 65,
   "metadata": {},
   "outputs": [
    {
     "name": "stdout",
     "output_type": "stream",
     "text": [
      "under development...\n",
      "anntflayer\n"
     ]
    }
   ],
   "source": [
    "# test case per layer\n",
    "num_wires = 5\n",
    "params = np.pi * np.random.random_sample((num_wires, 3))\n",
    "features = np.random.uniform(0, np.pi, 3)\n",
    "anntflayer_out = qcircuit_picker(\"anntf\", params, features, range(num_wires))\n",
    "print(anntflayer_out)"
   ]
  },
  {
   "cell_type": "code",
   "execution_count": null,
   "metadata": {},
   "outputs": [],
   "source": []
  }
 ],
 "metadata": {
  "kernelspec": {
   "display_name": "Python 3",
   "language": "python",
   "name": "python3"
  },
  "language_info": {
   "codemirror_mode": {
    "name": "ipython",
    "version": 3
   },
   "file_extension": ".py",
   "mimetype": "text/x-python",
   "name": "python",
   "nbconvert_exporter": "python",
   "pygments_lexer": "ipython3",
   "version": "3.8.3"
  }
 },
 "nbformat": 4,
 "nbformat_minor": 4
}
