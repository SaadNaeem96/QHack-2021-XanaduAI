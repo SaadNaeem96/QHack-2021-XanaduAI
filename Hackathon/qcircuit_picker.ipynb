{
 "cells": [
  {
   "cell_type": "markdown",
   "metadata": {},
   "source": [
    "# Quantum Circuit Picker, Related Works\n",
    "\n",
    "\n",
    "**Artificial Neural Networks**\n",
    "\n",
    "  * Embed features in ROT gates\n",
    "  * Build a circuit that consists of ROT gates\n",
    "  * Ref: Data-reuploading classifier — PennyLane\n",
    "\n",
    "**Quantum CNN**\n",
    "  * Build a quantum circuit and treat it as a quantum kernel\n",
    "  * The quantum kernel consists of Pennylane's RY gates and RandomLayers\n",
    "  * Ref: Quanvolutional Neural Networks — PennyLane; [1904.04767] Quanvolutional Neural Networks: Powering Image Recognition with Quantum Circuits (arxiv.org), based on ased on PyTorch\n",
    "\n",
    "\n",
    "**Quantum GAN**\n",
    "  * Pennylane Tutorial based on Google Cirq and tensorflow\n",
    "  * Build a generator and a discriminator that consist of Pennylane's Hadamard, RX, RY, RZ, CNOT gates\n",
    "  * Ref: Quantum Generative Adversarial Networks with Cirq + TensorFlow — PennyLane\n",
    "\n",
    "\n",
    "**Quantum Neural Nets**\n",
    "\n",
    "  * Build a generator and a discriminator that consist of Pennylane's Hadamard, RX, RY, RZ, CNOT gates\n",
    "  * Ref: Quantum Generative Adversarial Networks with Cirq + TensorFlow — PennyLane\n",
    "  \n",
    "**Transfer Learning using ANN**\n",
    "\n",
    "  * Build quantum layers of pennylane's Hadamard, RY, CNOT gates\n",
    "  * Ref: Quantum transfer learning — PennyLane, also based on PyTorch\n",
    "  \n",
    "**Variational Quantum Linear Solver**\n",
    "\n",
    "  * Build quantum circuits that consist of pennylane's Hadamard, CZ, CNOT gates\n",
    "  * Ref: Variational Quantum Linear Solver — PennyLane\n",
    "  \n",
    "**Coherent Variational Quantum Linear Solver**\n",
    "\n",
    "  * Build quantum circuits that consist of pennylane's Hadamard, CZ, CNOT, CRY, RY gates\n",
    "  * Ref: https://pennylane.ai/qml/demos/tutorial_coherent_vqls.html\n",
    "  \n",
    "**Multiclass Classification**\n",
    "\n",
    "  * Build quantum circuits that consist of pennylane's ROT, CNOTgates\n",
    "  * Ref: Multiclass margin classifier — PennyLane\n",
    "\n",
    "**QGRNN**\n",
    "\n",
    "  * Build quantum circuits that consist of pennylane's ROT, CNOTgates\n",
    "  * Ref: Multiclass margin classifier — PennyLane\n"
   ]
  },
  {
   "cell_type": "markdown",
   "metadata": {},
   "source": [
    "We consider the following factors to pick quantum circuits\n",
    "  * interface = \"torch\" # pytorch\n",
    "  * simulator = \"default.qubit\" # cirq.simulator\n",
    "  * nntype = \"ann\" # gan, cnn, gnn, anntf (ann for transfer learning), lstm"
   ]
  },
  {
   "cell_type": "code",
   "execution_count": 9,
   "metadata": {},
   "outputs": [],
   "source": [
    "import sys\n",
    "import pennylane as qml\n",
    "import numpy as np"
   ]
  },
  {
   "cell_type": "code",
   "execution_count": 14,
   "metadata": {},
   "outputs": [],
   "source": [
    "def qcircuit_picker(nntype, simulator, interface):\n",
    "    if simulator is None: \n",
    "        simulator = \"default.qubit\"\n",
    "    if interface is None:\n",
    "        interface = \"torch\"\n",
    "    def ann():\n",
    "        Ann1QbitLayer()\n",
    "        return \n",
    "    def cnn():\n",
    "        CnnLayer()\n",
    "        return \n",
    "    def anntf():\n",
    "        AnnTfLayer()\n",
    "        return \n",
    "    def gan():\n",
    "        return \"GAN quantum circuit picker under development...\"\n",
    "    def gnn():\n",
    "        return \"GNN quantum circuit picker under development...\"\n",
    "    switcher = {\n",
    "        0: ann(),\n",
    "        1: cnn(),\n",
    "        2: anntf(),\n",
    "        3: gan(),\n",
    "        4: gnn()\n",
    "    }\n",
    "    return switcher.get(argument, \"invalid neural net type\")\n"
   ]
  },
  {
   "cell_type": "code",
   "execution_count": 47,
   "metadata": {},
   "outputs": [],
   "source": [
    "# a layer in an ANN\n",
    "# This layer returns multiple measurements per wire\n",
    "# For each wire, a ROT gate embedds the feature (i.e. the data sample of length 3) followed by\n",
    "# another ROT gate that takes the params (i.e. the weights to optimize) as input\n",
    "# The features could be the output of a preceeding layer (classical or quantum)\n",
    "\n",
    "def AnnLayer(params, features, wires):\n",
    "            \n",
    "        \"\"\"A variational quantum circuit representing the Universal classifier.\n",
    "\n",
    "        Args:\n",
    "            params (array[float]): array of parameters\n",
    "            features (array[float]): single input vector\n",
    "\n",
    "        Returns:\n",
    "            float: measurements per wire\n",
    "        \"\"\"\n",
    "        i = 0\n",
    "        ret = []\n",
    "        for p in params:\n",
    "            qml.Rot(*features, wires=wires[i])\n",
    "            qml.Rot(*p, wires=wires[i])\n",
    "            i += 1\n",
    "            ret.append(qml.expval(qml.PauliZ(i)))\n",
    "        return ret"
   ]
  },
  {
   "cell_type": "code",
   "execution_count": 48,
   "metadata": {},
   "outputs": [
    {
     "name": "stdout",
     "output_type": "stream",
     "text": [
      "[expval(PauliZ(wires=[1])), expval(PauliZ(wires=[2])), expval(PauliZ(wires=[3])), expval(PauliZ(wires=[4])), expval(PauliZ(wires=[5]))]\n"
     ]
    }
   ],
   "source": [
    "# test case per layer\n",
    "\n",
    "num_wires = 5\n",
    "params = np.pi * np.random.random_sample((num_wires, 3))\n",
    "features = np.random.uniform(0, np.pi, 3)\n",
    "measurements =  AnnLayer(params, features, range(num_wires))\n",
    "print(measurements)"
   ]
  },
  {
   "cell_type": "code",
   "execution_count": 45,
   "metadata": {},
   "outputs": [],
   "source": [
    "# build a N-dimensional kernel for CNN, N = 2, 3\n",
    "def CnnLayer(n_inputs, params, features, wires):\n",
    "    print(\"under development...\")\n",
    "    # Encoding of n_inputs classical input values\n",
    "#     ret = []\n",
    "#     for j in range(n_inputs):\n",
    "#         qml.RY(params[j], wires=wires[j])\n",
    "#         ret.append(qml.expval(qml.PauliZ(j)))\n",
    "#         return ret\n",
    "            "
   ]
  },
  {
   "cell_type": "code",
   "execution_count": 46,
   "metadata": {},
   "outputs": [],
   "source": [
    "# ref example: https://pennylane.readthedocs.io/en/latest/_modules/pennylane/qnn/keras.html#KerasLayer\n",
    "# ref: https://pennylane.ai/qml/demos/tutorial_quantum_transfer_learning.html\n",
    "def AnnTfLayer():\n",
    "    print(\"under development...\")\n",
    "#     for idx in range(nqubits):\n",
    "#          qml.Hadamard(wires=idx)\n",
    "#     for idx, element in enumerate(w):\n",
    "#             qml.RY(element, wires=idx)\n",
    "#     for i in range(0, nqubits - 1, 2): \n",
    "#             qml.CNOT(wires=[i, i + 1])\n",
    "#     for i in range(1, nqubits - 1, 2):  \n",
    "#             qml.CNOT(wires=[i, i + 1])      \n",
    "#     exp_vals = [qml.expval(qml.PauliZ(position)) for position in range(n_qubits)]\n",
    "#          return tuple(exp_vals)\n",
    "    "
   ]
  }
 ],
 "metadata": {
  "kernelspec": {
   "display_name": "Python 3",
   "language": "python",
   "name": "python3"
  },
  "language_info": {
   "codemirror_mode": {
    "name": "ipython",
    "version": 3
   },
   "file_extension": ".py",
   "mimetype": "text/x-python",
   "name": "python",
   "nbconvert_exporter": "python",
   "pygments_lexer": "ipython3",
   "version": "3.8.3"
  }
 },
 "nbformat": 4,
 "nbformat_minor": 4
}
